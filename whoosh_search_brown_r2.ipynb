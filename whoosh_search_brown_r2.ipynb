{
 "cells": [
  {
   "cell_type": "code",
   "execution_count": null,
   "metadata": {},
   "outputs": [],
   "source": [
    "#   NOTE: Run blocks below top to bottom, then toggle the button above"
   ]
  },
  {
   "cell_type": "code",
   "execution_count": 2,
   "metadata": {},
   "outputs": [],
   "source": [
    "#import libraries\n",
    "import pandas as pd\n",
    "import numpy as np\n",
    "import matplotlib as plt\n",
    "%matplotlib inline\n",
    "import csv\n",
    "from ast import literal_eval\n",
    "from ipywidgets import widgets, interact\n",
    "from ipywidgets import IntSlider, Output\n",
    "from IPython.display import clear_output\n",
    "\n",
    "from whoosh import fields, index\n",
    "from whoosh.fields import Schema, TEXT, KEYWORD, ID, STORED\n",
    "from whoosh.analysis import StemmingAnalyzer\n",
    "from whoosh import qparser\n",
    "from whoosh.qparser import QueryParser\n",
    "from whoosh.filedb.filestore import FileStorage"
   ]
  },
  {
   "cell_type": "code",
   "execution_count": 3,
   "metadata": {},
   "outputs": [
    {
     "data": {
      "text/plain": [
       "FileIndex(FileStorage('index'), 'MAIN')"
      ]
     },
     "execution_count": 3,
     "metadata": {},
     "output_type": "execute_result"
    }
   ],
   "source": [
    "# manage index for use later\n",
    "storage = FileStorage(\"index\")\n",
    "\n",
    "# Create an index\n",
    "#ix = storage.create_index(myschema)\n",
    "\n",
    "# Open an existing index\n",
    "storage.open_index()"
   ]
  },
  {
   "cell_type": "code",
   "execution_count": 16,
   "metadata": {},
   "outputs": [
    {
     "name": "stdout",
     "output_type": "stream",
     "text": [
      "[b'ALSPAC', b'BIB', b'ELSA', b'EPICN', b'EXCEED', b'FENLAND', b'GENSCOT', b'GLAD', b'MCS', b'NCDS58', b'NEXTSTEP', b'NICOLA', b'NIHRBIO_COPING', b'NSHD46', b'SABRE', b'TRACKC19', b'TWINSUK', b'UKHLS']\n",
      "[b'000', b'11', b'12', b'12m', b'13', b'14', b'17', b'18', b'19', b'1958', b'1965', b'1969', b'1970', b'1971', b'1974', b'1981', b'1991', b'1999', b'20', b'2000', b'2001', b'2003', b'2004', b'2005', b'2008', b'2009', b'2010', b'2012', b'2013', b'2014', b'2018', b'2019', b'2020', b'2022', b'21st', b'228', b'24', b'24m', b'28', b'29', b'35', b'3rd', b'41', b'42', b'46', b'47', b'4th', b'50', b'55', b'5th', b'85', b'87', b'98', b'about', b'accelerometer', b'across', b'active', b'activity', b'addition', b'additional', b'address', b'admissions', b'adopted', b'adult', b'adults', b'affecting', b'after', b'age', b'aged', b'ageing', b'agreed', b'aim', b'aimed', b'aims', b'all', b'allow', b'along', b'alongside', b'also', b'ambitious', b'among', b'analysed', b'annual', b'anti', b'antibody', b'antigen', b'any', b'appointment', b'approach', b'area', b'around', b'arrangements', b'ask', b'asked', b'asking', b'aspects', b'aspirations', b'assay', b'assessed', b'assessment', b'assessments', b'assests', b'assisted', b'attempt', b'attend', b'attended', b'attitudes', b'available', b'babies', b'back', b'based', b'baseline', b'basic', b'bcs', b'bcs70', b'been', b'before', b'began', b'beginning', b'behalf', b'behaviour', b'behavioural', b'behaviours', b'behevioural', b'belfast', b'between', b'bib', b'bib_age_y', b'birth', b'block', b'blood', b'bloods', b'body', b'born', b'both', b'brainshake', b'breadth', b'brief', b'bringing', b'britain', b'british', b'broadly', b'builds', b'but', b'ca', b'capi', b'capital', b'captures', b'care', b'carer', b'carried', b'case', b'casi', b'category', b'censuses', b'central', b'century', b'cf', b'change', b'changed', b'changes', b'chart', b'check', b'child', b'childhood', b'children', b'circumstances', b'citizenship', b'class', b'cleaned', b'clinic', b'clinical', b'close', b'cls', b'co', b'coding', b'cognitive', b'cohabitee', b'cohort', b'cohorts', b'collect', b'collected', b'collection', b'combined', b'combines', b'communication', b'comparisons', b'complement', b'complements', b'complete', b'completed', b'completeted', b'completion', b'comprises', b'compulsory', b'computer', b'conducted', b'connectivity', b'consent', b'consented', b'consists', b'contact', b'containing', b'contains', b'content', b'contents', b'contextual', b'continuation', b'continue', b'continuing', b'continuity', b'cope', b'cope1', b'cope2', b'copes', b'coping', b'cord', b'core', b'could', b'countries', b'cov', b'covered', b'covers', b'covid', b'covid19', b'covid19survey', b'created', b'crime', b'current', b'data', b'dataset', b'dates', b'day', b'death', b'demographic', b'demographics', b'derived', b'describing', b'designed', b'detailed', b'details', b'development', b'dh', b'di', b'diary', b'did', b'died', b'differences', b'different', b'differs', b'directly', b'disability', b'disadvantage', b'diverge', b'diverse', b'dna', b'domains', b'drinking', b'during', b'e.g', b'each', b'earlier', b'early', b'economic', b'ecoss', b'education', b'educational', b'effort', b'eighth', b'either', b'electronic', b'eligible', b'elsa', b'email', b'employment', b'engaged', b'engaging', b'england', b'enhanced', b'entry', b'environment', b'environmental', b'er', b'esrc', b'ethnic', b'ethnicity', b'events', b'every', b'ex', b'examination', b'examining', b'exceed', b'excluding', b'existing', b'expectations', b'experience', b'experienced', b'experiences', b'explained', b'explore', b'exposure', b'extend', b'face', b'facility', b'factors', b'families', b'family', b'far', b'fasting', b'fat', b'february', b'fieldwork', b'fifth', b'fifty', b'filled', b'final', b'finances', b'financial', b'finger', b'finished', b'first', b'five', b'focused', b'follow', b'followed', b'following', b'followup', b'formation', b'four', b'fq', b'function', b'functionality', b'funded', b'further', b'future', b'g0', b'g1', b'gathered', b'gender', b'general', b'given', b'glad', b'gp', b'great', b'group', b'groups', b'growing', b'gs', b'habits', b'had', b'has', b'he', b'head', b'health', b'height', b'help', b'high', b'history', b'ho', b'home', b'hospital', b'household', b'housing', b'how', b'human', b'husband', b'ia', b'identified', b'identity', b'idetified', b'immigrants', b'impact', b'important', b'improve', b'include', b'included', b'includes', b'including', b'income', b'independent', b'index', b'indicating', b'individual', b'individuals', b'infancy', b'infant', b'infection', b'influence', b'information', b'infromation', b'initial', b'interview', b'interviewed', b'interviewer', b'interviews', b'into', b'investigate', b'invited', b'ireland', b'isolation', b'its', b'january', b'join', b'joining', b'journeys', b'kept', b'key', b'kingdom', b'known', b'lab', b'labour', b'large', b'last', b'latter', b'learning', b'least', b'lessen', b'life', b'lifelong', b'lifespan', b'lifestyle', b'linkage', b'linked', b'links', b'live', b'lived', b'lives', b'living', b'lockdown', b'loneliness', b'longitudinal', b'ltd', b'made', b'magnetic', b'main', b'mainly', b'maintained', b'maintenance', b'make', b'making', b'many', b'map', b'mar', b'markers', b'market', b'marks', b'matching', b'mcs', b'mcs1', b'mcs2', b'mcs3', b'mcs4', b'mcs7', b'mcsid', b'measure', b'measurements', b'measures', b'measuring', b'medical', b'member', b'members', b'mental', b'metabolomics', b'midlife', b'midwife', b'might', b'millennium', b'minute', b'mix', b'mixed', b'mode', b'module', b'modules', b'monthly', b'months', b'more', b'mortality', b'mother', b'mothers', b'multi', b'multiple', b'national', b'natural', b'ncds', b'ncds1', b'ncds3', b'ncds4', b'ncds6', b'ncds8', b'necessitated', b'negative', b'neonatal', b'networks', b'new', b'next', b'nightingale', b'ninth', b'nmber', b'nmr', b'no', b'non', b'norfolk', b'northern', b'note', b'nuclear', b'number', b'objective', b'objectives', b'obtain', b'obtained', b'occasions', b'occupation', b'occupational', b'official', b'old', b'older', b'one', b'online', b'only', b'organisations', b'other', b'our', b'out', b'outcomes', b'over', b'overall', b'own', b'pack', b'pandemic', b'paper', b'parent', b'parental', b'parenting', b'parents', b'part', b'participant', b'participants', b'participate', b'participated', b'participation', b'particular', b'partner', b'past', b'paths', b'pensions', b'people', b'perinatal', b'person', b'personal', b'personality', b'phase', b'phone', b'physical', b'pis', b'place', b'placement', b'platform', b'please', b'pms', b'point', b'points', b'post', b'postal', b'potentially', b'practices', b'predictors', b'prepandemic', b'prescribing', b'prescriptions', b'previous', b'previously', b'prick', b'primary', b'prior', b'process', b'professional', b'progress', b'project', b'provide', b'provided', b'provides', b'providing', b'ps', b'psychological', b'psychosocial', b'public', b'purpose', b'purposefully', b'purposes', b'questionnaire', b'questionnaires', b'questions', b'raw', b're', b'rebranded', b'record', b'records', b'recovery', b'recruited', b'registered', b'registers', b'registry', b'relatedness', b'relationships', b'relevant', b'remainder', b'repeat', b'repeated', b'report', b'reported', b'represented', b'request', b'requested', b'research', b'residence', b'resident', b'resonance', b'respectively', b'respondents', b'response', b'responses', b'responsible', b'result', b'results', b'retrospective', b'return', b'returned', b'reward', b'risk', b'risky', b'rotating', b'rpaq', b'same', b'sample', b'samples', b'sars', b'sc', b'scale', b'school', b'schooling', b'schools', b'scope', b'scotland', b'second', b'seeks', b'selected', b'self', b'sent', b'serial', b'serology', b'serum', b'service', b'seven', b'seventh', b'sex', b'shows', b'siblings', b'signed', b'significantly', b'since', b'situation', b'sixth', b'small', b'smoking', b'soc2010', b'social', b'society', b'socio', b'sociodemographic', b'socioeconomic', b'some', b'sp', b'span', b'start', b'started', b'state', b'status', b'steps', b'strengths', b'stress', b'structure', b'studies', b'study', b'sub', b'subcohort', b'subject', b'subjects', b'substudy', b'such', b'summary', b'surveillance', b'survey', b'surveys', b'surviving', b'sweep', b'sweeps', b'symptoms', b'symtpms', b'system', b'take', b'taken', b'taking', b'target', b'teacher', b'teachers', b'telephone', b'tenure', b'test', b'testing', b'tests', b'their', b'them', b'themselves', b'then', b'these', b'they', b'those', b'thoughts', b'three', b'thriva', b'through', b'throughput', b'thus', b'time', b'tip', b'took', b'topics', b'tracing', b'track', b'tracking', b'training', b'transition', b'transitional', b'trauma', b'trials', b'twice', b'twinsuk', b'typically', b'uk', b'ukhls', b'ultimately', b'undergo', b'understand', b'understanding', b'undertake', b'united', b'university', b'unsucessful', b'until', b'up', b'update', b'updated', b'ups', b'urine', b'use', b'used', b'using', b'utilisation', b'vaccine', b'vaccines', b'valid', b'value', b'values', b'variable', b'variables', b'variety', b'via', b'visit', b'visit3', b'visits', b'volunteers', b'w1', b'wales', b'was', b'wave', b'waves', b'way', b'web', b'week', b'weight', b'well', b'wellbeing', b'were', b'what', b'where', b'which', b'who', b'whole', b'wife', b'work', b'wp', b'year', b'years', b'young', b'zigosity']\n",
      "4246\n",
      "['Aims', 'LPS_name', 'Themes', 'collection_start', 'lf', 'long_desc', 'source', 'table', 'uf', 'variable_description', 'variable_name']\n",
      "Score: 1.0\n",
      "ID1: Avon Longitudinal Study of Parents & Children (ALSPAC)\n"
     ]
    },
    {
     "ename": "KeyError",
     "evalue": "'table_name'",
     "output_type": "error",
     "traceback": [
      "\u001b[1;31m---------------------------------------------------------------------------\u001b[0m",
      "\u001b[1;31mKeyError\u001b[0m                                  Traceback (most recent call last)",
      "Cell \u001b[1;32mIn[16], line 31\u001b[0m\n\u001b[0;32m     28\u001b[0m         \u001b[38;5;28mprint\u001b[39m(\u001b[38;5;124m'\u001b[39m\u001b[38;5;124m'\u001b[39m)\n\u001b[0;32m     29\u001b[0m         \u001b[38;5;28mprint\u001b[39m(\u001b[38;5;124m'\u001b[39m\u001b[38;5;124m_____________________________________________________________________________________________________\u001b[39m\u001b[38;5;124m'\u001b[39m)\n\u001b[1;32m---> 31\u001b[0m search_res()\n",
      "Cell \u001b[1;32mIn[16], line 24\u001b[0m, in \u001b[0;36msearch_res\u001b[1;34m()\u001b[0m\n\u001b[0;32m     22\u001b[0m \u001b[38;5;28mprint\u001b[39m(\u001b[38;5;124m'\u001b[39m\u001b[38;5;124mScore: \u001b[39m\u001b[38;5;132;01m{}\u001b[39;00m\u001b[38;5;124m'\u001b[39m\u001b[38;5;241m.\u001b[39mformat(\u001b[38;5;28mround\u001b[39m(hit\u001b[38;5;241m.\u001b[39mscore,\u001b[38;5;241m2\u001b[39m))) \u001b[38;5;66;03m# Default score uses the BM25F Algo https://whoosh.readthedocs.io/en/latest/searching.html?highlight=default%20score#scoring\u001b[39;00m\n\u001b[0;32m     23\u001b[0m \u001b[38;5;28mprint\u001b[39m(\u001b[38;5;124m'\u001b[39m\u001b[38;5;124mID1:\u001b[39m\u001b[38;5;124m'\u001b[39m, hit[\u001b[38;5;124m'\u001b[39m\u001b[38;5;124mLPS_name\u001b[39m\u001b[38;5;124m'\u001b[39m])\n\u001b[1;32m---> 24\u001b[0m \u001b[38;5;28mprint\u001b[39m(\u001b[38;5;124m'\u001b[39m\u001b[38;5;124mID2: \u001b[39m\u001b[38;5;124m'\u001b[39m, hit[\u001b[38;5;124m'\u001b[39m\u001b[38;5;124mtable_name\u001b[39m\u001b[38;5;124m'\u001b[39m])\n\u001b[0;32m     25\u001b[0m \u001b[38;5;28mprint\u001b[39m(hit[\u001b[38;5;124m'\u001b[39m\u001b[38;5;124mAims\u001b[39m\u001b[38;5;124m'\u001b[39m])\n\u001b[0;32m     26\u001b[0m \u001b[38;5;28mprint\u001b[39m(hit[\u001b[38;5;124m'\u001b[39m\u001b[38;5;124mvariable_name\u001b[39m\u001b[38;5;124m'\u001b[39m])\n",
      "File \u001b[1;32mx:\\anaconda\\Lib\\site-packages\\whoosh\\searching.py:1513\u001b[0m, in \u001b[0;36mHit.__getitem__\u001b[1;34m(self, fieldname)\u001b[0m\n\u001b[0;32m   1510\u001b[0m     cr \u001b[38;5;241m=\u001b[39m reader\u001b[38;5;241m.\u001b[39mcolumn_reader(fieldname)\n\u001b[0;32m   1511\u001b[0m     \u001b[38;5;28;01mreturn\u001b[39;00m cr[\u001b[38;5;28mself\u001b[39m\u001b[38;5;241m.\u001b[39mdocnum]\n\u001b[1;32m-> 1513\u001b[0m \u001b[38;5;28;01mraise\u001b[39;00m \u001b[38;5;167;01mKeyError\u001b[39;00m(fieldname)\n",
      "\u001b[1;31mKeyError\u001b[0m: 'table_name'"
     ]
    }
   ],
   "source": [
    "# run search\n",
    "# Good explanation on the BM25F: https://www.quora.com/How-does-BM25-work\n",
    "ix = index.open_dir('index')\n",
    "\n",
    "with ix.searcher() as searcher:\n",
    "    print(list(searcher.lexicon(\"source\")))\n",
    "    print(list(searcher.lexicon(\"long_desc\")))\n",
    "\n",
    "qp = qparser.QueryParser(\"sentence\", ix.schema)\n",
    "\n",
    "\n",
    "\n",
    "def search_res():\n",
    "    ix = index.open_dir('index')\n",
    "    qp = qparser.QueryParser(\"source\", ix.schema, group=qparser.OrGroup)\n",
    "    q = qp.parse(\"ALSPAC\")\n",
    "    searcher = ix.searcher()\n",
    "    results = searcher.search(q)\n",
    "    print(len(results))\n",
    "    for hit in results:\n",
    "        print(hit.keys())\n",
    "        print('Score: {}'.format(round(hit.score,2))) # Default score uses the BM25F Algo https://whoosh.readthedocs.io/en/latest/searching.html?highlight=default%20score#scoring\n",
    "        print('ID1:', hit['LPS_name'])\n",
    "        print('ID2: ', hit['table'])\n",
    "        print(hit['Aims'])\n",
    "        print(hit['variable_name'])\n",
    "        print('')\n",
    "        print('')\n",
    "        print('_____________________________________________________________________________________________________')\n",
    "\n",
    "search_res()"
   ]
  },
  {
   "cell_type": "code",
   "execution_count": 5,
   "metadata": {},
   "outputs": [
    {
     "ename": "TypeError",
     "evalue": "search_res() takes 0 positional arguments but 1 was given",
     "output_type": "error",
     "traceback": [
      "\u001b[1;31m---------------------------------------------------------------------------\u001b[0m",
      "\u001b[1;31mTypeError\u001b[0m                                 Traceback (most recent call last)",
      "Cell \u001b[1;32mIn[5], line 2\u001b[0m\n\u001b[0;32m      1\u001b[0m x \u001b[38;5;241m=\u001b[39m \u001b[38;5;124mb\u001b[39m\u001b[38;5;124m\"\u001b[39m\u001b[38;5;124mALSPAC\u001b[39m\u001b[38;5;124m\"\u001b[39m\n\u001b[1;32m----> 2\u001b[0m search_res(x)\n",
      "\u001b[1;31mTypeError\u001b[0m: search_res() takes 0 positional arguments but 1 was given"
     ]
    }
   ],
   "source": [
    "x = b\"ALSPAC\"\n",
    "search_res(x)"
   ]
  },
  {
   "cell_type": "code",
   "execution_count": null,
   "metadata": {},
   "outputs": [],
   "source": []
  }
 ],
 "metadata": {
  "kernelspec": {
   "display_name": "Python 3",
   "language": "python",
   "name": "python3"
  },
  "language_info": {
   "codemirror_mode": {
    "name": "ipython",
    "version": 3
   },
   "file_extension": ".py",
   "mimetype": "text/x-python",
   "name": "python",
   "nbconvert_exporter": "python",
   "pygments_lexer": "ipython3",
   "version": "3.11.5"
  }
 },
 "nbformat": 4,
 "nbformat_minor": 2
}
